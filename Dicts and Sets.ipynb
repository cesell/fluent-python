{
 "cells": [
  {
   "cell_type": "markdown",
   "metadata": {},
   "source": [
    "# Dicts and Sets\n",
    "\n",
    "Dictionaries are a keystone of Python. Beyond the basic dict, the standard library offers handy, ready-to-use specialized mappings like defaultdict, OrderedDict, ChainMap and Counter, all defined in the collections module. The same module also provides the easy to extend UserDict class. \n",
    "\n",
    "Two powerful methods available in most mappings are setdefault and update. The setdefault method is used to update items holding mutable values, for example, in a dict of list values, to avoid redundant searches for the same key. The update method allows bulk insertion or overwriting of items from any other mapping, from iterables providing (key, value) pairs and from keyword arguments. \n",
    "\n",
    "Mapping constructors also use update internally, allowing instances to be initialized from mappings, iterables or keyword arguments. A clever hook in the mapping API is the __missing__ method, that lets you customize what happens when a key is not found. The collections.abc module provides the Mapping and MutableMapping abstract base classes for reference and type checking. The little-known MappingProxyType from the types module creates immutable mappings. There are also ABCs for Set and Mutable Set.\n"
   ]
  },
  {
   "cell_type": "markdown",
   "metadata": {},
   "source": [
    "## Dictionaries"
   ]
  },
  {
   "cell_type": "code",
   "execution_count": null,
   "metadata": {},
   "outputs": [],
   "source": [
    "a = dict(one=1, two=2, three=3) \n",
    "b = {'one': 1, 'two': 2, 'three': 3} \n",
    "c = dict(zip(['one', 'two', 'three'], [1, 2, 3])) \n",
    "d = dict([('two', 2), ('one', 1), ('three', 3)]) \n",
    "e = dict({'three': 3, 'one': 1, 'two': 2}) \n",
    "a == b == c == d == e"
   ]
  },
  {
   "cell_type": "code",
   "execution_count": null,
   "metadata": {},
   "outputs": [],
   "source": [
    "# Nice example\n",
    "import re\n",
    "WORD_RE = re.compile('\\w+')\n",
    "\n",
    "index = {}\n",
    "\n",
    "with open('text.txt', encoding='utf-8') as fp:\n",
    "\n",
    "    for line_no, line in enumerate(fp,1):\n",
    "\n",
    "        for match in WORD_RE.finditer(line):\n",
    "            word = match.group()\n",
    "            col_no = match.start() + 1\n",
    "            location = (line_no, col_no)\n",
    "            index.setdefault(word,[]).append(location)\n",
    "\n",
    "for word in sorted(index, key=str.upper):\n",
    "    print(word,index[word])"
   ]
  },
  {
   "cell_type": "markdown",
   "metadata": {},
   "source": [
    "## Sets\n",
    "\n",
    "A new feature and usually misused."
   ]
  },
  {
   "cell_type": "code",
   "execution_count": null,
   "metadata": {},
   "outputs": [],
   "source": [
    "import numpy as np\n",
    "\n",
    "a = {1,2,3,4,5}\n",
    "b = {3,8,9}\n",
    "\n",
    "'basic operations a OR b {} a AND B {} a MINUS b {} a XOR b {}'.format(a & b,a | b,a - b, a ^ b)"
   ]
  },
  {
   "cell_type": "code",
   "execution_count": null,
   "metadata": {},
   "outputs": [],
   "source": [
    "a = np.arange(1000)\n",
    "b = np.random.randint(low=0, high=1000, size=10)\n",
    "\n",
    "#finding b in a is very simple, without loops\n",
    "set(a) & set(b)"
   ]
  },
  {
   "cell_type": "markdown",
   "metadata": {},
   "source": [
    "## List Comprehensions"
   ]
  },
  {
   "cell_type": "code",
   "execution_count": null,
   "metadata": {},
   "outputs": [],
   "source": [
    "from unicodedata import name\n",
    "{chr(i) for i in range(32,256) if 'SIGN' in name(chr(i),'')}\n",
    "\n"
   ]
  },
  {
   "cell_type": "markdown",
   "metadata": {},
   "source": [
    "## Practical consequences of implementation\n",
    "1. Keys must be hashable\n",
    "2. Dicts have significant memory overhead\n",
    "3. Key searh is very fast\n",
    "4. Key ordering depends on insertion ordering\n",
    "5. It is a bad idea to add items while iterating\n"
   ]
  }
 ],
 "metadata": {
  "kernelspec": {
   "display_name": "Python 3",
   "language": "python",
   "name": "python3"
  },
  "language_info": {
   "codemirror_mode": {
    "name": "ipython",
    "version": 3
   },
   "file_extension": ".py",
   "mimetype": "text/x-python",
   "name": "python",
   "nbconvert_exporter": "python",
   "pygments_lexer": "ipython3",
   "version": "3.6.1"
  }
 },
 "nbformat": 4,
 "nbformat_minor": 2
}
